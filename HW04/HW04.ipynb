{
 "cells": [
  {
   "cell_type": "code",
   "execution_count": 31,
   "metadata": {
    "id": "VQGacpixK22P"
   },
   "outputs": [],
   "source": []
  },
  {
   "cell_type": "code",
   "execution_count": 32,
   "metadata": {
    "id": "krFH2caqJl85"
   },
   "outputs": [],
   "source": [
    "from tensorflow import keras \n",
    "from tensorflow import keras as ks\n",
    "import numpy as np\n",
    "import pandas as pd\n",
    "import sklearn as sk\n",
    "import time\n",
    "from keras.datasets import mnist\n",
    "from keras.models import Sequential, load_model\n",
    "from keras.layers import Dense, Dropout, Flatten, BatchNormalization\n",
    "from keras import optimizers\n",
    "\n",
    "from keras import backend as K\n",
    "from keras import regularizers\n",
    "from keras import initializers\n",
    "from tensorflow.keras import layers\n",
    "from matplotlib import pyplot as plt\n",
    "\n",
    "from tensorflow.keras.models import Sequential\n",
    "from tensorflow.keras.layers import Dense\n",
    "from tensorflow.keras.utils import to_categorical"
   ]
  },
  {
   "cell_type": "code",
   "execution_count": 33,
   "metadata": {
    "id": "m5kUaqoeKrS3"
   },
   "outputs": [],
   "source": [
    "# split the data to train and test,\n",
    "# make sure convert pandas to numpy\n",
    "from sklearn.model_selection import train_test_split\n",
    "df = pd.read_csv(\"/content/drive/MyDrive/4050_HW04/train_AFTER_EDA.csv\")\n",
    "df=df.drop(['StudentID','cohort','overall_income'], axis=1)\n",
    "## pre store the name, will be use later\n",
    "dfName = list(df.columns)\n",
    "# print(df.columns)\n",
    "df = df.to_numpy()\n"
   ]
  },
  {
   "cell_type": "code",
   "execution_count": 34,
   "metadata": {
    "id": "ue3kL6wwwnOm"
   },
   "outputs": [],
   "source": [
    "from sklearn.model_selection import StratifiedShuffleSplit\n",
    "# stratified to split train and test\n",
    "split = StratifiedShuffleSplit(n_splits = 1, test_size = 0.2, random_state = 123)\n",
    "for train_index, test_index in split.split(df, df[:, -1]): \n",
    "  train_set = df[train_index, :]\n",
    "  test_set = df[test_index, :]\n",
    "# print(len(train_set))\n",
    "# print(len(test_set))"
   ]
  },
  {
   "cell_type": "code",
   "execution_count": 35,
   "metadata": {
    "id": "k7Wfj__DWULk"
   },
   "outputs": [],
   "source": [
    "# set hyper-parameters\n",
    "batch_size = 128\n",
    "num_classes = 2\n",
    "epochs = 5"
   ]
  },
  {
   "cell_type": "code",
   "execution_count": 36,
   "metadata": {
    "colab": {
     "base_uri": "https://localhost:8080/"
    },
    "id": "jG5gbrd3vrIY",
    "outputId": "65db5acb-1ff2-4c4d-9b9e-230255d971f6"
   },
   "outputs": [
    {
     "name": "stdout",
     "output_type": "stream",
     "text": [
      "(9808, 28)\n",
      "(2452, 28)\n",
      "(9808,)\n",
      "(2452,)\n"
     ]
    }
   ],
   "source": [
    "# 重新设回dataframe，但是缺失column name\n",
    "train_set = pd.DataFrame(train_set)\n",
    "test_set = pd.DataFrame(test_set)\n",
    "\n",
    "# 重新赋值column name, 用 dfName\n",
    "train_set.columns = dfName\n",
    "test_set.columns = dfName\n",
    "\n",
    "## One hot encoding since \"unsupported object type int\"\n",
    "for features in train_set.columns: \n",
    "  if train_set[features].dtype == \"object\": \n",
    "    train_set[features] = pd.Categorical(train_set[features]).codes\n",
    "\n",
    "for features in test_set.columns: \n",
    "  if test_set[features].dtype == \"object\": \n",
    "    test_set[features] = pd.Categorical(test_set[features]).codes\n",
    "\n",
    "x_train=train_set.drop(['Dropout'], axis=1)\n",
    "x_test=test_set.drop(['Dropout'], axis=1)\n",
    "## try\n",
    "# x_train = train_set\n",
    "# x_test = test_set\n",
    "\n",
    "y_train=train_set['Dropout']\n",
    "y_test=test_set['Dropout']\n",
    "\n",
    "y_train = y_train.to_numpy()\n",
    "y_test = y_test.to_numpy()\n",
    "\n",
    "print(x_train.shape)\n",
    "print(x_test.shape)\n",
    "print(y_train.shape)\n",
    "print(y_test.shape)\n",
    "\n"
   ]
  },
  {
   "cell_type": "code",
   "execution_count": 37,
   "metadata": {
    "id": "ILdFDAJEwGvW"
   },
   "outputs": [],
   "source": [
    "Y_train = to_categorical(y_train, num_classes)\n",
    "Y_test = to_categorical(y_test, num_classes)"
   ]
  },
  {
   "cell_type": "markdown",
   "metadata": {
    "id": "VhRVUHMWQkPa"
   },
   "source": [
    "# 1. Neural network with one hidden layer, using sigmoid activation function, momentum stochastic gradient descent, and dropouts."
   ]
  },
  {
   "cell_type": "code",
   "execution_count": 38,
   "metadata": {
    "id": "08NNQFLKSK_Z"
   },
   "outputs": [],
   "source": [
    "# set hyper-parameters\n",
    "batch_size = 128\n",
    "num_classes = 2\n",
    "epochs = 4"
   ]
  },
  {
   "cell_type": "code",
   "execution_count": 39,
   "metadata": {
    "colab": {
     "base_uri": "https://localhost:8080/"
    },
    "id": "cFDU1v7cQilq",
    "outputId": "936f99fe-8de2-4f64-dcd6-02568a456fa4"
   },
   "outputs": [
    {
     "name": "stdout",
     "output_type": "stream",
     "text": [
      "Model: \"sequential_2\"\n",
      "_________________________________________________________________\n",
      " Layer (type)                Output Shape              Param #   \n",
      "=================================================================\n",
      " dense_5 (Dense)             (None, 58)                1682      \n",
      "                                                                 \n",
      " dropout (Dropout)           (None, 58)                0         \n",
      "                                                                 \n",
      " dense_6 (Dense)             (None, 2)                 118       \n",
      "                                                                 \n",
      "=================================================================\n",
      "Total params: 1,800\n",
      "Trainable params: 1,800\n",
      "Non-trainable params: 0\n",
      "_________________________________________________________________\n"
     ]
    },
    {
     "name": "stderr",
     "output_type": "stream",
     "text": [
      "/usr/local/lib/python3.8/dist-packages/keras/optimizers/optimizer_v2/gradient_descent.py:108: UserWarning: The `lr` argument is deprecated, use `learning_rate` instead.\n",
      "  super(SGD, self).__init__(name, **kwargs)\n"
     ]
    }
   ],
   "source": [
    "## Create the network layer\n",
    "## one hidden layer\n",
    "model = Sequential()\n",
    "model.add(Dense(58, activation = \"sigmoid\", input_shape = (28, )))\n",
    "model.add(Dropout(0.25))\n",
    "model.add(Dense(num_classes, activation = \"sigmoid\"))\n",
    "\n",
    "model.summary()\n",
    "\n",
    "## Momentum Stochastic Gradient Descent\n",
    "sgd = ks.optimizers.SGD(lr = 0.01, decay = 1e-6, momentum = 0.9, nesterov = True)\n",
    "\n",
    "## compile the model\n",
    "model.compile(loss = \"categorical_crossentropy\", optimizer = sgd, metrics = [\"accuracy\"])"
   ]
  },
  {
   "cell_type": "code",
   "execution_count": 40,
   "metadata": {
    "colab": {
     "base_uri": "https://localhost:8080/"
    },
    "id": "9rw5Yfioa3zI",
    "outputId": "e52d7eb7-ed61-4c49-8897-9c553950dcaf"
   },
   "outputs": [
    {
     "data": {
      "text/plain": [
       "numpy.ndarray"
      ]
     },
     "execution_count": 40,
     "metadata": {},
     "output_type": "execute_result"
    }
   ],
   "source": [
    "# x_train = x_train.to_numpy()\n",
    "# x_test = x_test.to_numpy()\n",
    "# y_train = y_train.to_numpy()\n",
    "# y_test = y_test.to_numpy()\n",
    "type(Y_train)"
   ]
  },
  {
   "cell_type": "code",
   "execution_count": 41,
   "metadata": {
    "colab": {
     "base_uri": "https://localhost:8080/"
    },
    "id": "1oV6v8KdZ6sy",
    "outputId": "73d90ca0-a4c9-499e-dc12-b0562912b9df"
   },
   "outputs": [
    {
     "name": "stdout",
     "output_type": "stream",
     "text": [
      "Epoch 1/4\n",
      "77/77 [==============================] - 1s 2ms/step - loss: 0.7048 - accuracy: 0.5906\n",
      "Epoch 2/4\n",
      "77/77 [==============================] - 0s 2ms/step - loss: 0.6641 - accuracy: 0.6150\n",
      "Epoch 3/4\n",
      "77/77 [==============================] - 0s 2ms/step - loss: 0.6606 - accuracy: 0.6210\n",
      "Epoch 4/4\n",
      "77/77 [==============================] - 0s 2ms/step - loss: 0.6572 - accuracy: 0.6247\n",
      "Training duration :  1.75050950050354\n"
     ]
    }
   ],
   "source": [
    "## Fit the model on training set\n",
    "start_time = time.time()\n",
    "history = model.fit(x_train, Y_train, \n",
    "                    batch_size = batch_size, \n",
    "                    epochs = epochs, \n",
    "                    verbose = 1)\n",
    "print(\"Training duration : \", time.time() - start_time)\n",
    "\n",
    "## saving the model\n",
    "model.save(\"/content/drive/MyDrive/4050_HW04/onehidden.h5\")\n"
   ]
  },
  {
   "cell_type": "code",
   "execution_count": 42,
   "metadata": {
    "colab": {
     "base_uri": "https://localhost:8080/",
     "height": 297
    },
    "id": "MRI656RIabfU",
    "outputId": "d29c9671-8acd-4854-f22e-3fc5467a2082"
   },
   "outputs": [
    {
     "data": {
      "image/png": "[encoded data removed]",
      "text/plain": [
       "<Figure size 432x288 with 2 Axes>"
      ]
     },
     "metadata": {
      "needs_background": "light"
     },
     "output_type": "display_data"
    }
   ],
   "source": [
    "## plotting the metrics\n",
    "plt.subplot(2,1,1)\n",
    "plt.plot(history.history['accuracy'])\n",
    "plt.title('model accuracy')\n",
    "plt.ylabel('accuracy')\n",
    "plt.xlabel('epoch')\n",
    "plt.legend(['train', 'test'], loc='lower right')\n",
    "\n",
    "plt.subplot(2,1,2)\n",
    "plt.plot(history.history['loss'])\n",
    "plt.title('model loss')\n",
    "plt.ylabel('loss')\n",
    "plt.xlabel('epoch')\n",
    "plt.legend(['train', 'test'], loc='upper right')\n",
    "\n",
    "plt.tight_layout()"
   ]
  },
  {
   "cell_type": "markdown",
   "metadata": {
    "id": "21dk8C0ZeC80"
   },
   "source": [
    "Measure Performance"
   ]
  },
  {
   "cell_type": "code",
   "execution_count": 43,
   "metadata": {
    "colab": {
     "base_uri": "https://localhost:8080/"
    },
    "id": "PVD1hY-LeFIw",
    "outputId": "d2622359-b47a-43b9-dd43-003bf1babfff"
   },
   "outputs": [
    {
     "name": "stdout",
     "output_type": "stream",
     "text": [
      "818/818 [==============================] - 1s 1ms/step - loss: 0.6524 - accuracy: 0.6330\n",
      "Network test score [loss, accuracy]: [0.6524078845977783, 0.6329526901245117]\n"
     ]
    }
   ],
   "source": [
    "score = model.evaluate(x_test, Y_test, batch_size=3)\n",
    "\n",
    "print(\"Network test score [loss, accuracy]:\", score)"
   ]
  },
  {
   "cell_type": "code",
   "execution_count": 44,
   "metadata": {
    "colab": {
     "base_uri": "https://localhost:8080/"
    },
    "id": "oaTAPOOyTso9",
    "outputId": "2c62f38e-099f-410d-f523-678239e251eb"
   },
   "outputs": [
    {
     "name": "stdout",
     "output_type": "stream",
     "text": [
      "77/77 [==============================] - 0s 1ms/step\n",
      "(2452,)\n",
      "(2452,)\n",
      "[0 0 0 ... 0 0 0]\n",
      "[0 0 0 ... 1 1 1]\n"
     ]
    }
   ],
   "source": [
    "## Create predictions on the test set\n",
    "mnist_model = load_model(\"/content/drive/MyDrive/4050_HW04/onehidden.h5\")\n",
    "\n",
    "predicted_classes = np.argmax(mnist_model.predict(x_test), axis = 1)\n",
    "print(predicted_classes.shape)\n",
    "print(y_test.shape)\n",
    "print(predicted_classes)\n",
    "\n",
    "print(y_test)\n"
   ]
  },
  {
   "cell_type": "code",
   "execution_count": 45,
   "metadata": {
    "colab": {
     "base_uri": "https://localhost:8080/"
    },
    "id": "dDTpv_05uFCM",
    "outputId": "9ae49031-6def-4113-b0b7-70414844c3b5"
   },
   "outputs": [
    {
     "name": "stdout",
     "output_type": "stream",
     "text": [
      "1552  classified correctly\n",
      "900  classified incorrectly\n"
     ]
    }
   ],
   "source": [
    "## see which we predicted correctly and which not\n",
    "correct_indices = np.nonzero(predicted_classes == y_test)[0]\n",
    "incorrect_indices = np.nonzero(predicted_classes != y_test)[0]\n",
    "# print(correct_indices)\n",
    "print(len(correct_indices), \" classified correctly\")\n",
    "print(len(incorrect_indices), \" classified incorrectly\")"
   ]
  },
  {
   "cell_type": "markdown",
   "metadata": {
    "id": "e3IpX7jtUAtm"
   },
   "source": [
    "# 2.Neural network with three hidden layers, using relu activation function, Nesterov momentum stochastic gradient descent, dropouts, L2 regularization and random Gaussian weight initialization with 1/sqrt(n) standard deviation."
   ]
  },
  {
   "cell_type": "code",
   "execution_count": 46,
   "metadata": {
    "id": "H1RpuGq9UDbj"
   },
   "outputs": [],
   "source": [
    "# set hyper-parameters\n",
    "batch_size = 128\n",
    "num_classes = 2\n",
    "epochs = 5"
   ]
  },
  {
   "cell_type": "code",
   "execution_count": 47,
   "metadata": {
    "colab": {
     "base_uri": "https://localhost:8080/"
    },
    "id": "1kay6It5UHwI",
    "outputId": "901067fd-08c3-4a6f-9d36-d9599e0e6031"
   },
   "outputs": [
    {
     "name": "stdout",
     "output_type": "stream",
     "text": [
      "Model: \"sequential_3\"\n",
      "_________________________________________________________________\n",
      " Layer (type)                Output Shape              Param #   \n",
      "=================================================================\n",
      " dense_7 (Dense)             (None, 256)               7424      \n",
      "                                                                 \n",
      " dropout_1 (Dropout)         (None, 256)               0         \n",
      "                                                                 \n",
      " dense_8 (Dense)             (None, 128)               32896     \n",
      "                                                                 \n",
      " dropout_2 (Dropout)         (None, 128)               0         \n",
      "                                                                 \n",
      " dense_9 (Dense)             (None, 64)                8256      \n",
      "                                                                 \n",
      " dropout_3 (Dropout)         (None, 64)                0         \n",
      "                                                                 \n",
      " dense_10 (Dense)            (None, 2)                 130       \n",
      "                                                                 \n",
      "=================================================================\n",
      "Total params: 48,706\n",
      "Trainable params: 48,706\n",
      "Non-trainable params: 0\n",
      "_________________________________________________________________\n"
     ]
    }
   ],
   "source": [
    "## Create the network layer\n",
    "## one hidden layer\n",
    "import math\n",
    "model = Sequential()\n",
    "# 1\n",
    "model.add(Dense(256, activation = \"relu\", input_shape = (28, ), \n",
    "                kernel_regularizer = regularizers.l2(0.001), \n",
    "                kernel_initializer=initializers.RandomNormal(mean=0, stddev = 1/math.sqrt(28))))\n",
    "model.add(Dropout(0.2))\n",
    "# 2\n",
    "model.add(Dense(128, activation = \"relu\" ))\n",
    "model.add(Dropout(0.25))\n",
    "# 3\n",
    "model.add(Dense(64, activation = \"relu\"))\n",
    "model.add(Dropout(0.1))\n",
    "\n",
    "model.add(Dense(num_classes, activation = \"softmax\"))\n",
    "\n",
    "model.summary()\n",
    "\n",
    "## Momentum Stochastic Gradient Descent\n",
    "sgd = ks.optimizers.SGD(learning_rate = 0.1, decay = 1e-8, momentum = 0.9, \n",
    "                        nesterov = True, clipnorm = 1)\n",
    "\n",
    "## compile the model\n",
    "model.compile(loss = \"categorical_crossentropy\", optimizer = sgd, metrics = [\"accuracy\"])"
   ]
  },
  {
   "cell_type": "code",
   "execution_count": 48,
   "metadata": {
    "colab": {
     "base_uri": "https://localhost:8080/"
    },
    "id": "imbJriBfAwh6",
    "outputId": "869b795a-70bc-4179-a1f8-60539668345e"
   },
   "outputs": [
    {
     "name": "stdout",
     "output_type": "stream",
     "text": [
      "Epoch 1/5\n",
      "77/77 [==============================] - 1s 5ms/step - loss: 17.4382 - accuracy: 0.5960\n",
      "Epoch 2/5\n",
      "77/77 [==============================] - 0s 6ms/step - loss: 0.8554 - accuracy: 0.6140\n",
      "Epoch 3/5\n",
      "77/77 [==============================] - 0s 6ms/step - loss: 0.9781 - accuracy: 0.6136\n",
      "Epoch 4/5\n",
      "77/77 [==============================] - 0s 5ms/step - loss: 0.7901 - accuracy: 0.6140\n",
      "Epoch 5/5\n",
      "77/77 [==============================] - 0s 6ms/step - loss: 0.7441 - accuracy: 0.6140\n",
      "Training duration :  3.3496289253234863\n"
     ]
    }
   ],
   "source": [
    "start_time = time.time()\n",
    "history = model.fit(x_train, Y_train, \n",
    "                    batch_size = batch_size, \n",
    "                    epochs = epochs, \n",
    "                    verbose = 1)\n",
    "print(\"Training duration : \", time.time() - start_time)\n",
    "\n",
    "## saving the model\n",
    "model.save(\"/content/drive/MyDrive/4050_HW04/threehidden.h5\")"
   ]
  },
  {
   "cell_type": "code",
   "execution_count": 49,
   "metadata": {
    "colab": {
     "base_uri": "https://localhost:8080/",
     "height": 297
    },
    "id": "WvOrW9q39Uab",
    "outputId": "45b3fb84-4d7a-4901-aa55-26dc9fa40996"
   },
   "outputs": [
    {
     "data": {
      "image/png": "[encoded data removed]",
      "text/plain": [
       "<Figure size 432x288 with 2 Axes>"
      ]
     },
     "metadata": {
      "needs_background": "light"
     },
     "output_type": "display_data"
    }
   ],
   "source": [
    "## plotting the metrics\n",
    "plt.subplot(2,1,1)\n",
    "plt.plot(history.history['accuracy'])\n",
    "plt.title('model accuracy')\n",
    "plt.ylabel('accuracy')\n",
    "plt.xlabel('epoch')\n",
    "plt.legend(['train', 'test'], loc='lower right')\n",
    "\n",
    "plt.subplot(2,1,2)\n",
    "plt.plot(history.history['loss'])\n",
    "plt.title('model loss')\n",
    "plt.ylabel('loss')\n",
    "plt.xlabel('epoch')\n",
    "plt.legend(['train', 'test'], loc='upper right')\n",
    "\n",
    "plt.tight_layout()"
   ]
  },
  {
   "cell_type": "code",
   "execution_count": 50,
   "metadata": {
    "colab": {
     "base_uri": "https://localhost:8080/"
    },
    "id": "Ge8zeHMt9ZDk",
    "outputId": "ca5d2067-e84a-49d9-e540-610d19d7ea3d"
   },
   "outputs": [
    {
     "name": "stdout",
     "output_type": "stream",
     "text": [
      "154/154 [==============================] - 0s 2ms/step - loss: 0.7325 - accuracy: 0.6138\n",
      "Network test score [loss, accuracy]: [0.7324616312980652, 0.613784670829773]\n"
     ]
    }
   ],
   "source": [
    "score = model.evaluate(x_test, Y_test, batch_size=16)\n",
    "\n",
    "print(\"Network test score [loss, accuracy]:\", score)"
   ]
  },
  {
   "cell_type": "code",
   "execution_count": 51,
   "metadata": {
    "colab": {
     "base_uri": "https://localhost:8080/"
    },
    "id": "pxw-YSqG9ews",
    "outputId": "22c87295-a6ab-4d72-e96f-652f90d24b06"
   },
   "outputs": [
    {
     "name": "stdout",
     "output_type": "stream",
     "text": [
      "77/77 [==============================] - 0s 2ms/step\n",
      "(2452,)\n",
      "(2452,)\n",
      "[0 0 0 ... 0 0 0]\n",
      "[0 0 0 ... 1 1 1]\n"
     ]
    }
   ],
   "source": [
    "## Create predictions on the test set\n",
    "mnist_model = load_model(\"/content/drive/MyDrive/4050_HW04/threehidden.h5\")\n",
    "\n",
    "predicted_classes = np.argmax(mnist_model.predict(x_test), axis = 1)\n",
    "print(predicted_classes.shape)\n",
    "print(y_test.shape)\n",
    "print(predicted_classes)\n",
    "\n",
    "print(y_test)\n"
   ]
  },
  {
   "cell_type": "code",
   "execution_count": 52,
   "metadata": {
    "colab": {
     "base_uri": "https://localhost:8080/"
    },
    "id": "t6oRON2P9mv7",
    "outputId": "10eba9e1-25f3-4928-a18b-70e6a759cbe1"
   },
   "outputs": [
    {
     "name": "stdout",
     "output_type": "stream",
     "text": [
      "1505  classified correctly\n",
      "947  classified incorrectly\n"
     ]
    }
   ],
   "source": [
    "## see which we predicted correctly and which not\n",
    "correct_indices = np.nonzero(predicted_classes == y_test)[0]\n",
    "incorrect_indices = np.nonzero(predicted_classes != y_test)[0]\n",
    "# print(correct_indices)\n",
    "print(len(correct_indices), \" classified correctly\")\n",
    "print(len(incorrect_indices), \" classified incorrectly\")"
   ]
  },
  {
   "cell_type": "markdown",
   "metadata": {
    "id": "YcCNXf5PTDMF"
   },
   "source": [
    "# 3.Neural network with two hidden layers, use gradient descent, regularization of your choice. Use keras tuner to determine the optimal number of neurons in each layer and also to determine the learning rate and the activation function to use."
   ]
  },
  {
   "cell_type": "code",
   "execution_count": 53,
   "metadata": {
    "id": "RTsj2I0gTGWs"
   },
   "outputs": [],
   "source": [
    "# set hyper-parameters\n",
    "batch_size = 128\n",
    "num_classes = 2\n",
    "epochs = 5"
   ]
  },
  {
   "cell_type": "markdown",
   "metadata": {
    "id": "Cr4eg3gymqZo"
   },
   "source": [
    "### set up learning rate"
   ]
  },
  {
   "cell_type": "code",
   "execution_count": 54,
   "metadata": {
    "id": "cakzANKKhJKT"
   },
   "outputs": [],
   "source": [
    "import tensorflow\n",
    "# Set up learning rate\n",
    "## exponential Decay\n",
    "initial_learning_rate = 0.1\n",
    "exponential = keras.optimizers.schedules.ExponentialDecay(\n",
    "    initial_learning_rate,\n",
    "    decay_steps=100000,\n",
    "    decay_rate=0.96,\n",
    "    staircase=True)\n",
    "\n",
    "# Piecewise Constant Decay ===> learning rate nan\n",
    "step = tensorflow.Variable(0, trainable=False)\n",
    "boundaries = [100000, 110000]\n",
    "values = [1.0, 0.5, 0.1]\n",
    "piecewise = keras.optimizers.schedules.PiecewiseConstantDecay(\n",
    "    boundaries, values)\n",
    "# Later, whenever we perform an optimization step, we pass in the step.\n",
    "# learning_rate = piecewise(step)\n",
    "\n",
    "# Polynomial Decay ====> best performance\n",
    "starter_learning_rate = 0.1\n",
    "end_learning_rate = 0.01\n",
    "decay_steps = 10000\n",
    "polynomial = keras.optimizers.schedules.PolynomialDecay(\n",
    "    starter_learning_rate,\n",
    "    decay_steps,\n",
    "    end_learning_rate,\n",
    "    power=0.5)\n",
    "\n"
   ]
  },
  {
   "cell_type": "markdown",
   "metadata": {
    "id": "NQoFAaNxmtjc"
   },
   "source": [
    "### build model"
   ]
  },
  {
   "cell_type": "code",
   "execution_count": 55,
   "metadata": {
    "colab": {
     "base_uri": "https://localhost:8080/"
    },
    "id": "qyKolQLVgEWY",
    "outputId": "7990a9df-a56f-4285-fdb1-d6f6749a2140"
   },
   "outputs": [
    {
     "data": {
      "text/plain": [
       "<keras.engine.sequential.Sequential at 0x7fc8b2f7c2e0>"
      ]
     },
     "execution_count": 55,
     "metadata": {},
     "output_type": "execute_result"
    }
   ],
   "source": [
    "try: \n",
    "  import keras_tuner\n",
    "except: \n",
    "  !pip install keras-tuner --upgrade\n",
    "finally: \n",
    "  import keras_tuner\n",
    "\n",
    "def build_model(hp):\n",
    "    model = keras.Sequential()\n",
    "    # model.add(layers.Flatten())\n",
    "    # Tune the number of layers.\n",
    "    for i in range(hp.Int(\"num_layers\", 1, 3)):\n",
    "        model.add(\n",
    "            layers.Dense(\n",
    "                # Tune number of units separately.\n",
    "                units=hp.Int(f\"units_{i}\", min_value=16, max_value=1024, step=4),\n",
    "                activation=hp.Choice(\"activation\", [\"relu\", \"sigmoid\", \"tanh\"]),\n",
    "            )\n",
    "        )\n",
    "        #\n",
    "        model.add(layers.BatchNormalization())\n",
    "    if hp.Boolean(\"dropout\"):\n",
    "        model.add(layers.Dropout(rate=0.2))\n",
    "    #    \n",
    "    model.add(layers.BatchNormalization())\n",
    "    model.add(layers.Dense(2, activation=\"sigmoid\"))\n",
    "    # normalize output\n",
    "    # model.add(layers.BatchNormalization())\n",
    "    learning_rate = hp.Float(\"lr\", min_value=1e-8, max_value=1e-1, sampling=\"log\")\n",
    "    model.compile(\n",
    "        optimizer=keras.optimizers.SGD(learning_rate=polynomial),\n",
    "        loss=\"categorical_crossentropy\",\n",
    "        metrics=[\"accuracy\"],\n",
    "    )\n",
    "    return model\n",
    "\n",
    "build_model(keras_tuner.HyperParameters())"
   ]
  },
  {
   "cell_type": "code",
   "execution_count": 56,
   "metadata": {
    "id": "W5xoBXOBhENY"
   },
   "outputs": [],
   "source": [
    "tuner = keras_tuner.RandomSearch(\n",
    "    hypermodel=build_model,\n",
    "    objective=\"val_accuracy\",\n",
    "    max_trials=2,\n",
    "    executions_per_trial=3,\n",
    "    overwrite=True,\n",
    "    directory=\"/content/drive/MyDrive/4050_HW04/\",\n",
    "    project_name=\"tuner\",\n",
    ")\n"
   ]
  },
  {
   "cell_type": "code",
   "execution_count": 57,
   "metadata": {
    "id": "s54U9ZMe_cwu"
   },
   "outputs": [],
   "source": [
    "# print(x_train.shape)\n",
    "# print(x_test.shape)\n",
    "# print(y_train.shape)\n",
    "# print(y_test.shape)\n",
    "# print(Y_train.shape)\n",
    "# print(Y_test.shape)"
   ]
  },
  {
   "cell_type": "code",
   "execution_count": 58,
   "metadata": {
    "colab": {
     "base_uri": "https://localhost:8080/"
    },
    "id": "8E-mXsD9jOaa",
    "outputId": "cf7ac3f1-cb8a-4798-bfd2-b1c2d348d398"
   },
   "outputs": [
    {
     "name": "stdout",
     "output_type": "stream",
     "text": [
      "Trial 2 Complete [00h 00m 16s]\n",
      "val_accuracy: 0.6160957217216492\n",
      "\n",
      "Best val_accuracy So Far: 0.6373028755187988\n",
      "Total elapsed time: 00h 00m 29s\n"
     ]
    }
   ],
   "source": [
    "tuner.search(x = x_train, y = Y_train, epochs = 4, \n",
    "             batch_size = 128,\n",
    "             validation_data = (x_test, Y_test))"
   ]
  },
  {
   "cell_type": "code",
   "execution_count": 59,
   "metadata": {
    "colab": {
     "base_uri": "https://localhost:8080/"
    },
    "id": "5-EZsG-tAMr0",
    "outputId": "5ba08c1f-1235-4dae-a250-7781199890b4"
   },
   "outputs": [
    {
     "name": "stdout",
     "output_type": "stream",
     "text": [
      "Results summary\n",
      "Results in /content/drive/MyDrive/4050_HW04/tuner\n",
      "Showing 10 best trials\n",
      "<keras_tuner.engine.objective.Objective object at 0x7fc8b2f7c220>\n",
      "Trial summary\n",
      "Hyperparameters:\n",
      "num_layers: 3\n",
      "units_0: 720\n",
      "activation: tanh\n",
      "dropout: True\n",
      "lr: 6.724858873457598e-08\n",
      "units_1: 16\n",
      "units_2: 16\n",
      "Score: 0.6373028755187988\n",
      "Trial summary\n",
      "Hyperparameters:\n",
      "num_layers: 3\n",
      "units_0: 112\n",
      "activation: sigmoid\n",
      "dropout: True\n",
      "lr: 3.531390783721339e-08\n",
      "units_1: 208\n",
      "units_2: 224\n",
      "Score: 0.6160957217216492\n"
     ]
    }
   ],
   "source": [
    "tuner.results_summary()"
   ]
  },
  {
   "cell_type": "code",
   "execution_count": 60,
   "metadata": {
    "colab": {
     "base_uri": "https://localhost:8080/"
    },
    "id": "VRO1BNA4EK2Q",
    "outputId": "91da7411-75f7-4665-e5ed-4f49bea579d3"
   },
   "outputs": [
    {
     "name": "stdout",
     "output_type": "stream",
     "text": [
      "Model: \"sequential\"\n",
      "_________________________________________________________________\n",
      " Layer (type)                Output Shape              Param #   \n"
     ]
    },
    {
     "name": "stderr",
     "output_type": "stream",
     "text": [
      "WARNING:tensorflow:Detecting that an object or model or tf.train.Checkpoint is being deleted with unrestored values. See the following logs for the specific values in question. To silence these warnings, use `status.expect_partial()`. See https://www.tensorflow.org/api_docs/python/tf/train/Checkpoint#restorefor details about the status object returned by the restore function.\n",
      "WARNING:tensorflow:Value in checkpoint could not be found in the restored object: (root).layer_with_weights-0.kernel\n"
     ]
    },
    {
     "name": "stdout",
     "output_type": "stream",
     "text": [
      "=================================================================\n"
     ]
    },
    {
     "name": "stderr",
     "output_type": "stream",
     "text": [
      "WARNING:tensorflow:Value in checkpoint could not be found in the restored object: (root).layer_with_weights-0.bias\n",
      "WARNING:tensorflow:Value in checkpoint could not be found in the restored object: (root).layer_with_weights-1.gamma\n",
      "WARNING:tensorflow:Value in checkpoint could not be found in the restored object: (root).layer_with_weights-1.beta\n"
     ]
    },
    {
     "name": "stdout",
     "output_type": "stream",
     "text": [
      " dense (Dense)               (None, 720)               20880     \n"
     ]
    },
    {
     "name": "stderr",
     "output_type": "stream",
     "text": [
      "WARNING:tensorflow:Value in checkpoint could not be found in the restored object: (root).layer_with_weights-1.moving_mean\n",
      "WARNING:tensorflow:Value in checkpoint could not be found in the restored object: (root).layer_with_weights-1.moving_variance\n"
     ]
    },
    {
     "name": "stdout",
     "output_type": "stream",
     "text": [
      "                                                                 \n"
     ]
    },
    {
     "name": "stderr",
     "output_type": "stream",
     "text": [
      "WARNING:tensorflow:Value in checkpoint could not be found in the restored object: (root).layer_with_weights-2.gamma\n"
     ]
    },
    {
     "name": "stdout",
     "output_type": "stream",
     "text": [
      " batch_normalization (BatchN  (None, 720)              2880      \n"
     ]
    },
    {
     "name": "stderr",
     "output_type": "stream",
     "text": [
      "WARNING:tensorflow:Value in checkpoint could not be found in the restored object: (root).layer_with_weights-2.beta\n"
     ]
    },
    {
     "name": "stdout",
     "output_type": "stream",
     "text": [
      " ormalization)                                                   \n"
     ]
    },
    {
     "name": "stderr",
     "output_type": "stream",
     "text": [
      "WARNING:tensorflow:Value in checkpoint could not be found in the restored object: (root).layer_with_weights-2.moving_mean\n"
     ]
    },
    {
     "name": "stdout",
     "output_type": "stream",
     "text": [
      "                                                                 \n"
     ]
    },
    {
     "name": "stderr",
     "output_type": "stream",
     "text": [
      "WARNING:tensorflow:Value in checkpoint could not be found in the restored object: (root).layer_with_weights-2.moving_variance\n"
     ]
    },
    {
     "name": "stdout",
     "output_type": "stream",
     "text": [
      " dense_1 (Dense)             (None, 16)                11536     \n"
     ]
    },
    {
     "name": "stderr",
     "output_type": "stream",
     "text": [
      "WARNING:tensorflow:Value in checkpoint could not be found in the restored object: (root).layer_with_weights-3.kernel\n"
     ]
    },
    {
     "name": "stdout",
     "output_type": "stream",
     "text": [
      "                                                                 \n"
     ]
    },
    {
     "name": "stderr",
     "output_type": "stream",
     "text": [
      "WARNING:tensorflow:Value in checkpoint could not be found in the restored object: (root).layer_with_weights-3.bias\n"
     ]
    },
    {
     "name": "stdout",
     "output_type": "stream",
     "text": [
      " batch_normalization_1 (Batc  (None, 16)               64        \n"
     ]
    },
    {
     "name": "stderr",
     "output_type": "stream",
     "text": [
      "WARNING:tensorflow:Value in checkpoint could not be found in the restored object: (root).optimizer.iter\n"
     ]
    },
    {
     "name": "stdout",
     "output_type": "stream",
     "text": [
      " hNormalization)                                                 \n"
     ]
    },
    {
     "name": "stderr",
     "output_type": "stream",
     "text": [
      "WARNING:tensorflow:Value in checkpoint could not be found in the restored object: (root).optimizer.decay\n"
     ]
    },
    {
     "name": "stdout",
     "output_type": "stream",
     "text": [
      "                                                                 \n"
     ]
    },
    {
     "name": "stderr",
     "output_type": "stream",
     "text": [
      "WARNING:tensorflow:Value in checkpoint could not be found in the restored object: (root).optimizer.momentum\n"
     ]
    },
    {
     "name": "stdout",
     "output_type": "stream",
     "text": [
      " dense_2 (Dense)             (None, 16)                272       \n"
     ]
    },
    {
     "name": "stderr",
     "output_type": "stream",
     "text": [
      "WARNING:tensorflow:Detecting that an object or model or tf.train.Checkpoint is being deleted with unrestored values. See the following logs for the specific values in question. To silence these warnings, use `status.expect_partial()`. See https://www.tensorflow.org/api_docs/python/tf/train/Checkpoint#restorefor details about the status object returned by the restore function.\n"
     ]
    },
    {
     "name": "stdout",
     "output_type": "stream",
     "text": [
      "                                                                 \n"
     ]
    },
    {
     "name": "stderr",
     "output_type": "stream",
     "text": [
      "WARNING:tensorflow:Value in checkpoint could not be found in the restored object: (root).optimizer.iter\n"
     ]
    },
    {
     "name": "stdout",
     "output_type": "stream",
     "text": [
      " batch_normalization_2 (Batc  (None, 16)               64        \n"
     ]
    },
    {
     "name": "stderr",
     "output_type": "stream",
     "text": [
      "WARNING:tensorflow:Value in checkpoint could not be found in the restored object: (root).optimizer.decay\n"
     ]
    },
    {
     "name": "stdout",
     "output_type": "stream",
     "text": [
      " hNormalization)                                                 \n"
     ]
    },
    {
     "name": "stderr",
     "output_type": "stream",
     "text": [
      "WARNING:tensorflow:Value in checkpoint could not be found in the restored object: (root).optimizer.momentum\n"
     ]
    },
    {
     "name": "stdout",
     "output_type": "stream",
     "text": [
      "                                                                 \n",
      " dropout (Dropout)           (None, 16)                0         \n",
      "                                                                 \n",
      " batch_normalization_3 (Batc  (None, 16)               64        \n",
      " hNormalization)                                                 \n",
      "                                                                 \n",
      " dense_3 (Dense)             (None, 2)                 34        \n",
      "                                                                 \n",
      "=================================================================\n",
      "Total params: 35,794\n",
      "Trainable params: 34,258\n",
      "Non-trainable params: 1,536\n",
      "_________________________________________________________________\n"
     ]
    }
   ],
   "source": [
    "models = tuner.get_best_models(num_models=2)\n",
    "best_model = models[0]\n",
    "best_model.build(input_shape=(None, 28))\n",
    "best_model.summary()"
   ]
  },
  {
   "cell_type": "code",
   "execution_count": 61,
   "metadata": {
    "colab": {
     "base_uri": "https://localhost:8080/"
    },
    "id": "TEoq0lX2IbMO",
    "outputId": "0e3a3da5-b45c-4cdd-8047-a714e73cd586"
   },
   "outputs": [
    {
     "name": "stdout",
     "output_type": "stream",
     "text": [
      "Epoch 1/4\n",
      "384/384 [==============================] - 2s 3ms/step - loss: 0.6738 - accuracy: 0.6016\n",
      "Epoch 2/4\n",
      "384/384 [==============================] - 1s 3ms/step - loss: 0.6588 - accuracy: 0.6192\n",
      "Epoch 3/4\n",
      "384/384 [==============================] - 1s 3ms/step - loss: 0.6564 - accuracy: 0.6230\n",
      "Epoch 4/4\n",
      "384/384 [==============================] - 1s 3ms/step - loss: 0.6549 - accuracy: 0.6236\n"
     ]
    },
    {
     "data": {
      "text/plain": [
       "<keras.callbacks.History at 0x7fc8b2cba610>"
      ]
     },
     "execution_count": 61,
     "metadata": {},
     "output_type": "execute_result"
    }
   ],
   "source": [
    "# Get the top 2 hyperparameters.\n",
    "best_hps = tuner.get_best_hyperparameters(2)\n",
    "# Build the model with the best hp.\n",
    "model = build_model(best_hps[0])\n",
    "# Fit with the entire dataset.\n",
    "x_all = np.concatenate((x_train, x_test))\n",
    "y_all = np.concatenate((Y_train, Y_test))\n",
    "model.fit(x=x_all, y=y_all, epochs=4)"
   ]
  },
  {
   "cell_type": "code",
   "execution_count": 62,
   "metadata": {
    "colab": {
     "base_uri": "https://localhost:8080/"
    },
    "id": "3JLU2dV3I-nm",
    "outputId": "18ea85e1-fdd4-471c-e522-520eeacfffff"
   },
   "outputs": [
    {
     "name": "stdout",
     "output_type": "stream",
     "text": [
      "154/154 [==============================] - 0s 2ms/step - loss: 0.6543 - accuracy: 0.6236\n",
      "Network test score [loss, accuracy]: [0.6542794704437256, 0.623572587966919]\n"
     ]
    }
   ],
   "source": [
    "score = model.evaluate(x_test, Y_test, batch_size=16)\n",
    "\n",
    "print(\"Network test score [loss, accuracy]:\", score)"
   ]
  },
  {
   "cell_type": "markdown",
   "metadata": {
    "id": "8XkD-OSwTJbF"
   },
   "source": [
    "# 4.Choose epoch and mini batch size for all three of the architectures by experimenting with different values"
   ]
  },
  {
   "cell_type": "code",
   "execution_count": 63,
   "metadata": {
    "id": "TpZ7I2hyTL0u"
   },
   "outputs": [],
   "source": [
    "## I have all tried some values of epoch and batch size in the three models. "
   ]
  },
  {
   "cell_type": "markdown",
   "metadata": {
    "id": "bvUvv47uTMGt"
   },
   "source": [
    "# 5.Write a paragraph about how the neural network models compare in accuracy to the models you tried for the midterm."
   ]
  },
  {
   "cell_type": "markdown",
   "metadata": {
    "id": "3ZiR5p8zzy6d"
   },
   "source": [
    "Actually, I don't get a good accuracy as I got from midterm. I tried couples of parameters including epochs, batch_size. I even tried to put different learning_rate from functions that relates to decay, but I still got an accuracy around 0.61+ something. Even if I used keras.tuner, it doesn't go well. \n",
    "\n",
    "But then I looked online, some people tell that we cannot use the Flatten Layer because that layer will reshape the dimension to one, which will cause a bad accuracy. I also found out to use Batch_Normalization in order to normalize my output of neruos for each layer because in binary problem, the ln(-0.5) is around 0.69, that will also cause the accuracy rate to be not high enough. \n",
    "\n",
    "Finally, I got my accuracy around 0.73, that is not bad but there are still some differences between the score that I got from midterm. But I think that is already the best I got, and the value is somewhat related to the value when I ran logistic regression which I also got a value of 0.72+. "
   ]
  }
 ],
 "metadata": {
  "colab": {
   "collapsed_sections": [
    "NQoFAaNxmtjc"
   ],
   "provenance": []
  },
  "kernelspec": {
   "display_name": "Python 3 (ipykernel)",
   "language": "python",
   "name": "python3"
  },
  "language_info": {
   "codemirror_mode": {
    "name": "ipython",
    "version": 3
   },
   "file_extension": ".py",
   "mimetype": "text/x-python",
   "name": "python",
   "nbconvert_exporter": "python",
   "pygments_lexer": "ipython3",
   "version": "3.9.7"
  },
  "toc": {
   "base_numbering": 1,
   "nav_menu": {},
   "number_sections": true,
   "sideBar": true,
   "skip_h1_title": false,
   "title_cell": "Table of Contents",
   "title_sidebar": "Contents",
   "toc_cell": false,
   "toc_position": {},
   "toc_section_display": true,
   "toc_window_display": false
  }
 },
 "nbformat": 4,
 "nbformat_minor": 1
}
