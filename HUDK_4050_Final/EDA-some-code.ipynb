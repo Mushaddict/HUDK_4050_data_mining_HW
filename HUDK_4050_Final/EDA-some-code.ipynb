{
  "nbformat": 4,
  "nbformat_minor": 0,
  "metadata": {
    "colab": {
      "provenance": []
    },
    "kernelspec": {
      "name": "python3",
      "display_name": "Python 3"
    },
    "language_info": {
      "name": "python"
    }
  },
  "cells": [
    {
      "cell_type": "code",
      "source": [],
      "metadata": {
        "id": "Fbu2p4_BroZ5"
      },
      "execution_count": 10,
      "outputs": []
    },
    {
      "cell_type": "code",
      "execution_count": 11,
      "metadata": {
        "id": "tm1rk53Gpl4p"
      },
      "outputs": [],
      "source": [
        "import os\n",
        "import numpy as np\n",
        "from os import listdir\n",
        "from imageio import imread\n",
        "from keras.utils import to_categorical\n",
        "from sklearn.model_selection import train_test_split\n",
        "from keras.utils.image_utils import img_to_array\n",
        "\n",
        "import PIL\n",
        "import matplotlib.pyplot as plt"
      ]
    },
    {
      "cell_type": "code",
      "source": [
        "# Settings \n",
        "num_classes = 10\n",
        "test_size = 0.2"
      ],
      "metadata": {
        "id": "6LBFxjyCugpk"
      },
      "execution_count": 12,
      "outputs": []
    },
    {
      "cell_type": "code",
      "source": [
        "def get_img(data_path): \n",
        "  ## Getting image array from path: \n",
        "  img = PIL.Image.open(data_path)\n",
        "  img = img.convert(\"L\")\n",
        "  img = img_to_array(img)\n",
        "  # img = imread(dataset_path)\n",
        "  # img = np.array(img)\n",
        "  img = np.resize(img, (100, 100, 1))\n",
        "  return img"
      ],
      "metadata": {
        "id": "x0DSTAtTuoZs"
      },
      "execution_count": 13,
      "outputs": []
    },
    {
      "cell_type": "code",
      "source": [
        "# 测试\n",
        "\n",
        "dataset_path = \"/content/drive/MyDrive/HUDK_4050_Final/Dataset\"\n",
        "labels = listdir(dataset_path)\n",
        "dataset_path = dataset_path + \"/\" + \"0\"\n",
        "dataset_path = dataset_path + \"/\" + \"IMG_5991.JPG\"\n"
      ],
      "metadata": {
        "id": "26SlxdrkwRB7"
      },
      "execution_count": 14,
      "outputs": []
    },
    {
      "cell_type": "code",
      "source": [
        "# 测试  三种结果都一样，都是[100, 100, 3]\n",
        "img = PIL.Image.open(dataset_path)\n",
        "# convert转成1\n",
        "# img = img.convert(\"L\")\n",
        "# plt.imshow(img)\n",
        "\n",
        "# img = img_to_array(img)\n",
        "# print(img)\n",
        "# print(img.shape)\n",
        "\n",
        "# img = np.array(img)\n",
        "# print(img.shape)\n",
        "\n",
        "# img = imread(dataset_path)\n",
        "# print(img.shape)\n",
        "\n",
        "# img = np.resize(img, (img_size, img_size, 3))\n",
        "# print(img.shape)\n",
        "\n",
        "#  img = get_img(dataset_path)\n",
        "#  print(img.shape)\n"
      ],
      "metadata": {
        "id": "o1m6bHpF59Yn"
      },
      "execution_count": 15,
      "outputs": []
    },
    {
      "cell_type": "code",
      "source": [
        "dataset_path = \"/content/drive/MyDrive/HUDK_4050_Final/Dataset\"\n",
        "## Getting all data from data path\n",
        "labels = sorted(listdir(dataset_path))\n",
        "X = []\n",
        "Y = []\n",
        "for i, label in enumerate(labels): \n",
        "  # print(i, \" \", label)\n",
        "  data_path = dataset_path + \"/\" + label\n",
        "  # print(dataset_path)\n",
        "  for data in listdir(data_path): \n",
        "    img = get_img(data_path + \"/\" + data)\n",
        "    X.append(img)\n",
        "    Y.append(i)\n",
        "## create dataset \n",
        "X = 1 - np.array(X).astype(\"float32\") /255\n",
        "Y = np.array(Y).astype(\"float32\")\n",
        "Y = to_categorical(Y, num_classes)\n",
        "\n",
        "X, X_test, Y, Y_test = train_test_split(X, Y, test_size=test_size, random_state = 42)\n",
        "print(X.shape)\n",
        "print(X_test.shape)\n",
        "print(Y.shape)\n",
        "print(Y_test.shape)\n",
        "print(Y_test[0])"
      ],
      "metadata": {
        "colab": {
          "base_uri": "https://localhost:8080/"
        },
        "id": "51GeBQZ28elF",
        "outputId": "b908f09e-55a0-4e93-9a5d-b31b1ac1f759"
      },
      "execution_count": 42,
      "outputs": [
        {
          "output_type": "stream",
          "name": "stdout",
          "text": [
            "[0. 0. 0. 0. 0. 0. 1. 0. 0. 0.]\n"
          ]
        }
      ]
    },
    {
      "cell_type": "code",
      "source": [],
      "metadata": {
        "id": "szBmR9XE2Ggz"
      },
      "execution_count": 35,
      "outputs": []
    },
    {
      "cell_type": "code",
      "source": [
        "X = np.load(\"/content/drive/MyDrive/HUDK_4050_Final/X.npy\")\n",
        "print(X.shape)"
      ],
      "metadata": {
        "id": "C-93Xa5h9mJ0"
      },
      "execution_count": null,
      "outputs": []
    }
  ]
}