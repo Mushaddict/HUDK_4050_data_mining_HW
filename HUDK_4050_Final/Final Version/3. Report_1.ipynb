{
 "cells": [
  {
   "cell_type": "markdown",
   "metadata": {
    "id": "1fLrbDWHDEFj"
   },
   "source": [
    "## 4.2 Fully Connected Structure--Using Keras Tuner\n"
   ]
  },
  {
   "cell_type": "markdown",
   "metadata": {
    "id": "W1uV4YBxSn3L"
   },
   "source": [
    "## run first"
   ]
  },
  {
   "cell_type": "code",
   "execution_count": null,
   "metadata": {
    "id": "PzW_Ex1KF_bN"
   },
   "outputs": [],
   "source": [
    "from tensorflow import keras \n",
    "from tensorflow import keras as ks\n",
    "import numpy as np\n",
    "import pandas as pd\n",
    "import sklearn as sk\n",
    "import time\n",
    "from keras.datasets import mnist\n",
    "from keras.models import Sequential, load_model\n",
    "from keras.layers import Dense, Dropout, Flatten, BatchNormalization\n",
    "from keras import optimizers\n",
    "\n",
    "from keras import backend as K\n",
    "from keras import regularizers\n",
    "from keras import initializers\n",
    "from tensorflow.keras import layers\n",
    "from matplotlib import pyplot as plt\n",
    "\n",
    "from tensorflow.keras.models import Sequential\n",
    "from tensorflow.keras.layers import Dense\n",
    "from tensorflow.keras.utils import to_categorical"
   ]
  },
  {
   "cell_type": "markdown",
   "metadata": {
    "id": "vSSk4OyyIiBy"
   },
   "source": [
    "Preprocess the data into right format"
   ]
  },
  {
   "cell_type": "code",
   "execution_count": null,
   "metadata": {
    "id": "TaWDkQMLHYBl"
   },
   "outputs": [],
   "source": [
    "## unroll the height and width and thickness into one big vector\n",
    "x_train = X.reshape(1649, 10000)\n",
    "x_test = X_test.reshape(413, 10000)\n",
    "x_train = x_train.astype(\"float32\")\n",
    "x_test = x_test.astype(\"float32\")\n",
    "\n",
    "## normalize pixel values from 0 to 255\n",
    "x_train /= 255\n",
    "x_test /= 255\n",
    "\n",
    "y_train = Y\n",
    "y_test = Y_test"
   ]
  },
  {
   "cell_type": "markdown",
   "metadata": {
    "id": "CKmpIt33xO1Y"
   },
   "source": [
    "set up learning rate from various Dacay rate"
   ]
  },
  {
   "cell_type": "code",
   "execution_count": null,
   "metadata": {
    "id": "GB_SE1g3xOgz"
   },
   "outputs": [],
   "source": [
    "import tensorflow\n",
    "## exponential Decay\n",
    "initial_learning_rate = 0.1\n",
    "exponential = keras.optimizers.schedules.ExponentialDecay(\n",
    "    initial_learning_rate,\n",
    "    decay_steps=100000,\n",
    "    decay_rate=0.96,\n",
    "    staircase=True)\n",
    "\n",
    "# Piecewise Constant Decay ===> learning rate nan\n",
    "step = tensorflow.Variable(0, trainable=False)\n",
    "boundaries = [100000, 110000]\n",
    "values = [1.0, 0.5, 0.1]\n",
    "piecewise = keras.optimizers.schedules.PiecewiseConstantDecay(\n",
    "    boundaries, values)\n",
    "# Later, whenever we perform an optimization step, we pass in the step.\n",
    "# learning_rate = piecewise(step)\n",
    "\n",
    "# Polynomial Decay ====> best performance\n",
    "starter_learning_rate = 0.1\n",
    "end_learning_rate = 0.01\n",
    "decay_steps = 10000\n",
    "polynomial = keras.optimizers.schedules.PolynomialDecay(\n",
    "    starter_learning_rate,\n",
    "    decay_steps,\n",
    "    end_learning_rate,\n",
    "    power=0.5)"
   ]
  },
  {
   "cell_type": "markdown",
   "metadata": {
    "id": "d4aP6wsl8Ixz"
   },
   "source": [
    "## try tuner\n",
    "The best result is 0.55\n"
   ]
  },
  {
   "cell_type": "code",
   "execution_count": null,
   "metadata": {
    "id": "07DhOtAa8IIo"
   },
   "outputs": [],
   "source": [
    "# set hyper-parameters\n",
    "batch_size = 128\n",
    "num_classes = 10\n",
    "epochs = 5"
   ]
  },
  {
   "cell_type": "markdown",
   "metadata": {
    "id": "oDHUmUKODEFq"
   },
   "source": [
    "The tuner part is to use `keras.tuner` to find out the best number of neruals and what activation function is to use for each layer. Also, this can test how many layer should we get from the nerual network.     \n",
    "    \n",
    "I tried to set up the first layer as Dense layer, and set up with the min neural value as 16, the max as 4096, and to step up with 16. The activation choice are `relu`, `sigmoid`, `tanh`, and try to use l1/l2 as kernel_regularizer.      \n",
    "     \n",
    "There is a for loop in the middle of the code, which I tried to set up a 2-10 layer for network to find out the best layer number I can have. "
   ]
  },
  {
   "cell_type": "code",
   "execution_count": null,
   "metadata": {
    "colab": {
     "base_uri": "https://localhost:8080/"
    },
    "id": "r-EO6RcB8UAm",
    "outputId": "fcb40cce-24d0-4d8c-de86-825b38742762"
   },
   "outputs": [
    {
     "data": {
      "text/plain": [
       "<keras.engine.sequential.Sequential at 0x7f8132e7a970>"
      ]
     },
     "execution_count": 48,
     "metadata": {},
     "output_type": "execute_result"
    }
   ],
   "source": [
    "import math\n",
    "try: \n",
    "  import keras_tuner\n",
    "except: \n",
    "  !pip install keras-tuner --upgrade\n",
    "finally: \n",
    "  import keras_tuner\n",
    "\n",
    "def build_model(hp):\n",
    "    model = keras.Sequential()\n",
    "    # model.add(layers.Flatten())\n",
    "    # Tune the number of layers.\n",
    "    # 原来是min = 16, max = 4096, step = 16\n",
    "    model.add(Dense(units=hp.Int(\"1\", min_value=16, max_value=4096, step=16),\n",
    "                    activation=hp.Choice(\"activation\", [\"relu\", \"sigmoid\", \"tanh\"]),\n",
    "                    input_shape = (10000, ), \n",
    "                kernel_regularizer = regularizers.l2(0.001), \n",
    "                kernel_initializer=initializers.RandomNormal(mean=0, stddev = 1/math.sqrt(28))))\n",
    "    for i in range(hp.Int(\"num_layers\", 2, 10)):\n",
    "        model.add(\n",
    "            layers.Dense(\n",
    "                # Tune number of units separately.\n",
    "                units=hp.Int(f\"units_{i}\", min_value=16, max_value=4096, step=16),\n",
    "                activation=hp.Choice(\"activation\", [\"relu\", \"sigmoid\", \"tanh\"]),\n",
    "            )\n",
    "        )\n",
    "        #\n",
    "        # model.add(layers.BatchNormalization())\n",
    "    if hp.Boolean(\"dropout\"):\n",
    "        model.add(layers.Dropout(rate=0.2))\n",
    "    #    \n",
    "    model.add(layers.BatchNormalization())\n",
    "    model.add(layers.Dense(num_classes, activation=\"softmax\"))\n",
    "    # normalize output\n",
    "    # model.add(layers.BatchNormalization())\n",
    "    learning_rate = hp.Float(\"lr\", min_value=1e-8, max_value=1e-1, sampling=\"log\")\n",
    "    model.compile(\n",
    "        optimizer=keras.optimizers.SGD(learning_rate=polynomial),\n",
    "        loss=\"categorical_crossentropy\",\n",
    "        metrics=[\"accuracy\"],\n",
    "    )\n",
    "    return model\n",
    "\n",
    "build_model(keras_tuner.HyperParameters())"
   ]
  },
  {
   "cell_type": "markdown",
   "metadata": {
    "id": "yQxkDYp6DEFs"
   },
   "source": [
    "It turns out to have the best model score to be 0.728, with 3 hidden layers, as the first layer has 2976 neruals with activation function is `relu`, the second layer has 528 neurals, and the thrid layer has 1504 neruals. The learning rate is finally to be 0.01978.     \n",
    "     \n"
   ]
  },
  {
   "cell_type": "code",
   "execution_count": null,
   "metadata": {
    "colab": {
     "base_uri": "https://localhost:8080/"
    },
    "id": "XkLczcyp8wVu",
    "outputId": "7c89d5a3-ae42-4d56-c8b5-8f03a1fb58fc"
   },
   "outputs": [
    {
     "name": "stdout",
     "output_type": "stream",
     "text": [
      "Trial 3 Complete [00h 14m 51s]\n",
      "val_accuracy: 0.3615819215774536\n",
      "\n",
      "Best val_accuracy So Far: 0.7288135488828024\n",
      "Total elapsed time: 00h 44m 13s\n",
      "Results summary\n",
      "Results in /content/drive/MyDrive/HUDK_4050_Final/tuner\n",
      "Showing 10 best trials\n",
      "<keras_tuner.engine.objective.Objective object at 0x7f8138965160>\n",
      "Trial summary\n",
      "Hyperparameters:\n",
      "1: 2976\n",
      "activation: relu\n",
      "num_layers: 2\n",
      "units_0: 528\n",
      "units_1: 1504\n",
      "dropout: False\n",
      "lr: 0.01978101759610635\n",
      "Score: 0.7288135488828024\n",
      "Trial summary\n",
      "Hyperparameters:\n",
      "1: 2176\n",
      "activation: relu\n",
      "num_layers: 5\n",
      "units_0: 1472\n",
      "units_1: 688\n",
      "dropout: False\n",
      "lr: 1.6997397224609708e-05\n",
      "units_2: 944\n",
      "units_3: 4048\n",
      "units_4: 16\n",
      "Score: 0.3615819215774536\n",
      "Trial summary\n",
      "Hyperparameters:\n",
      "1: 1456\n",
      "activation: relu\n",
      "num_layers: 4\n",
      "units_0: 3984\n",
      "units_1: 1424\n",
      "dropout: False\n",
      "lr: 7.435257266599528e-05\n",
      "units_2: 16\n",
      "units_3: 16\n",
      "Score: 0.35835350553194684\n"
     ]
    }
   ],
   "source": [
    "tuner = keras_tuner.RandomSearch(\n",
    "    hypermodel=build_model,\n",
    "    objective=\"val_accuracy\",\n",
    "    max_trials=3,\n",
    "    executions_per_trial=3,\n",
    "    overwrite=True,\n",
    "    directory=\"/content/drive/MyDrive/HUDK_4050_Final/\",\n",
    "    project_name=\"tuner\",\n",
    ")\n",
    "\n",
    "search_result = tuner.search(x = x_train, y = y_train, epochs = 40, \n",
    "            \n",
    "             batch_size = 128,\n",
    "             validation_data = (x_test, y_test))\n",
    "\n",
    "tuner.results_summary()"
   ]
  },
  {
   "cell_type": "markdown",
   "metadata": {
    "id": "LUJkSNiQDEFs"
   },
   "source": [
    "The final model has a 0.5544 as its accuracy score, and a loss of 866. Such huge lossess happen probabily because I set too many layer to try for tuner. "
   ]
  },
  {
   "cell_type": "code",
   "execution_count": null,
   "metadata": {
    "colab": {
     "base_uri": "https://localhost:8080/"
    },
    "id": "gt5iDqCxQHIF",
    "outputId": "51580248-8b6e-48a2-f973-507466d13a68"
   },
   "outputs": [
    {
     "name": "stdout",
     "output_type": "stream",
     "text": [
      "Epoch 1/10\n",
      "52/52 [==============================] - 14s 256ms/step - loss: 1053.6150 - accuracy: 0.5494\n",
      "Epoch 2/10\n",
      "52/52 [==============================] - 13s 257ms/step - loss: 1031.3456 - accuracy: 0.7580\n",
      "Epoch 3/10\n",
      "52/52 [==============================] - 13s 253ms/step - loss: 1010.0507 - accuracy: 0.8090\n",
      "Epoch 4/10\n",
      "52/52 [==============================] - 13s 250ms/step - loss: 989.3188 - accuracy: 0.8296\n",
      "Epoch 5/10\n",
      "52/52 [==============================] - 13s 254ms/step - loss: 969.0494 - accuracy: 0.8642\n",
      "Epoch 6/10\n",
      "52/52 [==============================] - 15s 282ms/step - loss: 949.2832 - accuracy: 0.8830\n",
      "Epoch 7/10\n",
      "52/52 [==============================] - 13s 251ms/step - loss: 929.9527 - accuracy: 0.9139\n",
      "Epoch 8/10\n",
      "52/52 [==============================] - 13s 253ms/step - loss: 911.1019 - accuracy: 0.9187\n",
      "Epoch 9/10\n",
      "52/52 [==============================] - 13s 252ms/step - loss: 892.6476 - accuracy: 0.9363\n",
      "Epoch 10/10\n",
      "52/52 [==============================] - 13s 249ms/step - loss: 874.6395 - accuracy: 0.9448\n",
      "13/13 [==============================] - 1s 96ms/step - loss: 866.6199 - accuracy: 0.5545\n",
      "Network test score [loss, accuracy]: [866.6199340820312, 0.5544794201850891]\n",
      "(1649, 10000)\n",
      "(413, 10000)\n",
      "(1649, 10)\n",
      "(413, 10)\n"
     ]
    }
   ],
   "source": [
    "# Get the top 3 hyperparameters.\n",
    "best_hps = tuner.get_best_hyperparameters(3)\n",
    "# Build the model with the best hp.\n",
    "model = build_model(best_hps[0])\n",
    "# Fit with the entire dataset.\n",
    "# x_all = np.concatenate((x_train, x_test))\n",
    "# y_all = np.concatenate((y_train, y_test))\n",
    "# history = model.fit(x=x_all, y=y_all, epochs=10)\n",
    "history = model.fit(x = x_train, y = y_train, epochs = 10)\n",
    "\n",
    "score = model.evaluate(x_test, y_test, batch_size=32)\n",
    "print(\"Network test score [loss, accuracy]:\", score)\n",
    "\n",
    "print(x_train.shape)\n",
    "print(x_test.shape)\n",
    "print(y_train.shape)\n",
    "print(y_test.shape)"
   ]
  },
  {
   "cell_type": "code",
   "execution_count": null,
   "metadata": {
    "colab": {
     "base_uri": "https://localhost:8080/",
     "height": 331
    },
    "id": "rgx1h2XPpjgS",
    "outputId": "b285208b-4c5f-4792-e052-439e2a10f93e"
   },
   "outputs": [
    {
     "name": "stderr",
     "output_type": "stream",
     "text": [
      "WARNING:matplotlib.legend:No handles with labels found to put in legend.\n"
     ]
    },
    {
     "data": {
      "image/png": "[encoded data removed]",
      "text/plain": [
       "<Figure size 432x288 with 2 Axes>"
      ]
     },
     "metadata": {
      "needs_background": "light"
     },
     "output_type": "display_data"
    },
    {
     "data": {
      "text/plain": [
       "<Figure size 432x288 with 0 Axes>"
      ]
     },
     "metadata": {},
     "output_type": "display_data"
    }
   ],
   "source": [
    "plt.subplot(2,1,1)\n",
    "plt.plot(history.history['accuracy'])\n",
    "plt.title('model accuracy')\n",
    "plt.ylabel('accuracy')\n",
    "plt.xlabel('epoch')\n",
    "\n",
    "\n",
    "plt.subplot(2, 1, 2)\n",
    "plt.plot(history.history[\"loss\"])\n",
    "plt.title(\"model loss\")\n",
    "plt.ylabel(\"loss\")\n",
    "plt.xlabel(\"epoch\")\n",
    "plt.legend()\n",
    "plt.show()\n",
    "\n",
    "plt.tight_layout()"
   ]
  },
  {
   "cell_type": "markdown",
   "metadata": {
    "id": "vNX8qlq_DEFt"
   },
   "source": [
    "## Discussion\n",
    "The model is built from `keras.tuner`, which is to let the mechine ran all the data choices for me.     \n",
    "    \n",
    "At first when I set up with my model, I had all the accuracy score as only 0.07 or 0.10. After then I tried to set more layers than people usually did and tried with more neruals as well. I found out that the accurary score is going up a little bit, but not too much.     \n",
    "     \n",
    "I then started to use some regularization of L1/L2 and some dropouts and I found L2 makes my performance better. However, though it seems to be better, the accuracy score is still 0.20+.     \n",
    "     \n",
    "Finally, I started to add up the epoch number, which makes the running time to be super big, and by training my dataset for several trials and epochs, I got my final accuracy to be 0.55. I think this might be a good accuracy score because the `Dense` layer is used to train the models that are not pictures. The `Dense` layeys are usually made to train these supervised data. If I have to raise my accuracy score to about 80 or 90, I probably should add some `max pooling1` layer into my tuner. "
   ]
  }
 ],
 "metadata": {
  "colab": {
   "provenance": []
  },
  "kernelspec": {
   "display_name": "Python 3",
   "language": "python",
   "name": "python3"
  },
  "language_info": {
   "codemirror_mode": {
    "name": "ipython",
    "version": 3
   },
   "file_extension": ".py",
   "mimetype": "text/x-python",
   "name": "python",
   "nbconvert_exporter": "python",
   "pygments_lexer": "ipython3",
   "version": "3.8.5"
  },
  "toc": {
   "base_numbering": 1,
   "nav_menu": {},
   "number_sections": true,
   "sideBar": true,
   "skip_h1_title": false,
   "title_cell": "Table of Contents",
   "title_sidebar": "Contents",
   "toc_cell": false,
   "toc_position": {},
   "toc_section_display": true,
   "toc_window_display": false
  },
  "vscode": {
   "interpreter": {
    "hash": "aee8b7b246df8f9039afb4144a1f6fd8d2ca17a180786b69acc140d282b71a49"
   }
  }
 },
 "nbformat": 4,
 "nbformat_minor": 1
}
